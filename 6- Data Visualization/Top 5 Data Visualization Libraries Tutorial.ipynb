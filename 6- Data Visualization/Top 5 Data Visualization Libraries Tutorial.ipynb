{
 "cells": [
  {
   "cell_type": "markdown",
   "metadata": {
    "_uuid": "a8f9622945156d6337ba73c481da2de7efef7384"
   },
   "source": [
    "# <div style=\"text-align: center\">Top 5 Data Visualization Libraries Tutorial </div>\n",
    "\n",
    "\n",
    "<img src='https://s3.amazonaws.com/prime-web/app/uploads/July.28.18-GettyImages-509365976-Data-Visualization-Blog.jpg' height=600 width=700>\n",
    "<div style=\"text-align:center\">last update: <b>25/01/2019</b></div>\n",
    "\n",
    "\n",
    "\n",
    ">###### You may  be interested have a look at 10 Steps to Become a Data Scientist: \n",
    "\n",
    "1. [Leren Python](https://www.kaggle.com/mjbahmani/the-data-scientist-s-toolbox-tutorial-1)\n",
    "2. [Python Packages](https://www.kaggle.com/mjbahmani/the-data-scientist-s-toolbox-tutorial-2)\n",
    "3. [Mathematics and Linear Algebra](https://www.kaggle.com/mjbahmani/linear-algebra-for-data-scientists)\n",
    "4. [Programming &amp; Analysis Tools](https://www.kaggle.com/mjbahmani/20-ml-algorithms-15-plot-for-beginners)\n",
    "5. [Big Data](https://www.kaggle.com/mjbahmani/a-data-science-framework-for-quora)\n",
    "6.  <font color=\"red\">You are in the Sixth step</font>\n",
    "7. [Data Cleaning](https://www.kaggle.com/mjbahmani/machine-learning-workflow-for-house-prices)\n",
    "8. [How to solve a Problem?](https://www.kaggle.com/mjbahmani/the-data-scientist-s-toolbox-tutorial-2)\n",
    "9. [Machine Learning](https://www.kaggle.com/mjbahmani/a-comprehensive-ml-workflow-with-python)\n",
    "10. [Deep Learning](https://www.kaggle.com/mjbahmani/top-5-deep-learning-frameworks-tutorial)\n",
    "\n",
    "\n",
    "---------------------------------------------------------------------\n",
    "You can Fork and Run this kernel on Github:\n",
    "> ###### [ GitHub](https://github.com/mjbahmani/10-steps-to-become-a-data-scientist)\n",
    "\n",
    "-------------------------------------------------------------------------------------------------------------\n",
    " **I hope you find this kernel helpful and some <font color=\"red\"><b>UPVOTES</b></font> would be very much appreciated**\n",
    " \n",
    " -----------"
   ]
  },
  {
   "cell_type": "markdown",
   "metadata": {
    "_uuid": "cda11210a88d6484112cbe2c3624225328326c6a"
   },
   "source": [
    " <a id=\"top\"></a> <br>\n",
    "## Notebook  Content\n",
    "1. [Introduction](#1)\n",
    "1. [Loading Packages](#2)\n",
    "    1. [version](#21)\n",
    "    1. [Setup](#22)\n",
    "    1. [Data Collection](#23)\n",
    "1. [Data Visualization Libraries](#4)\n",
    "1. [Matplotlib](#4)\n",
    "    1. [Scatterplots](#41)\n",
    "    1. [ Line Plots](#42)\n",
    "    1. [Bar Charts](#43)\n",
    "    1. [Histograms](#44)\n",
    "    1. [Box and Whisker Plots](#45)\n",
    "    1. [Heatmaps](#46)\n",
    "    1. [Animations](#47)\n",
    "    1. [Interactivity](#48)\n",
    "    1. [DataFrame.plot](#49)\n",
    "1. [Seaborn](#5)\n",
    "    1. [Seaborn Vs Matplotlib](#51)\n",
    "    1. [Useful Python Data Visualization Libraries](#52)\n",
    "1. [Plotly](#6)\n",
    "    1. [New to Plotly?](#61)\n",
    "    1. [Plotly Offline from Command Line](#62)\n",
    "1. [Bokeh](#7)\n",
    "1. [networkx](#8)\n",
    "1. [Read more](#9)  \n",
    "     1. [Courses](#91)  \n",
    "     1. [Ebooks](#92)  \n",
    "     1. [Cheat sheet](#93)\n",
    "1. [Conclusion](#10)    \n",
    "1. [References](#11)    \n",
    "    "
   ]
  },
  {
   "cell_type": "markdown",
   "metadata": {
    "_uuid": "750903cc2679d39058f56df6c6c040be02b748df"
   },
   "source": [
    " <a id=\"1\"></a> <br>\n",
    "## 1- Introduction\n",
    "If you've followed my other kernels so far. You have noticed that for those who are <b>beginners</b>, I've introduced a course \"<b> <a href='https://www.kaggle.com/mjbahmani/10-steps-to-become-a-data-scientist' >10 Steps to Become a Data Scientist</a> </b>\". In this kernel we will start another step with each other. There are plenty of <b>Kernels</b> that can help you learn <b>Python 's Libraries</b> from scratch but here in <b>Kaggle</b>, I want to Analysis <font color=\"green\"><b>Meta Kaggle</b></font> a  popular  Dataset.\n",
    "After reading, you can use it  to Analysis other real dataset and use it as a template to deal with <b>ML</b> problems.\n",
    "It is clear that everyone in this community is familiar with Meta Kaggle dataset  but if you need to review your information about the datasets please visit  [meta-kaggle](https://www.kaggle.com/kaggle/meta-kaggle) .\n",
    "\n",
    "\n",
    "I am open to getting your feedback for improving this **kernel** together.\n"
   ]
  },
  {
   "cell_type": "markdown",
   "metadata": {
    "_uuid": "fbedcae8843986c2139f18dad4b5f313e6535ac5"
   },
   "source": [
    "<a id=\"2\"></a> <br>\n",
    "## 2- Loading Packages\n",
    "In this kernel we are using the following packages:"
   ]
  },
  {
   "cell_type": "code",
   "execution_count": null,
   "metadata": {
    "_cell_guid": "b1076dfc-b9ad-4769-8c92-a6c4dae69d19",
    "_kg_hide-input": true,
    "_uuid": "8f2839f25d086af736a60e9eeb907d3b93b6e0e5"
   },
   "outputs": [],
   "source": [
    "from plotly.offline import download_plotlyjs, init_notebook_mode, plot, iplot\n",
    "from bokeh.io import push_notebook, show, output_notebook\n",
    "import mpl_toolkits.axes_grid1.inset_locator as mpl_il\n",
    "from bokeh.plotting import figure, output_file, show\n",
    "from bokeh.io import show, output_notebook\n",
    "import matplotlib.animation as animation\n",
    "from matplotlib.figure import Figure\n",
    "from sklearn.cluster import KMeans\n",
    "import plotly.figure_factory as ff\n",
    "import matplotlib.pylab as pylab\n",
    "from ipywidgets import interact\n",
    "import plotly.graph_objs as go\n",
    "import plotly.graph_objs as go\n",
    "import matplotlib.pyplot as plt\n",
    "from bokeh.plotting import figure\n",
    "from sklearn  import datasets\n",
    "import plotly.plotly as py\n",
    "import plotly.graph_objs as go\n",
    "from plotly import tools\n",
    "\n",
    "from sklearn import datasets\n",
    "import plotly.offline as py\n",
    "from random import randint\n",
    "from plotly import tools\n",
    "import matplotlib as mpl\n",
    "import seaborn as sns\n",
    "import pandas as pd\n",
    "import numpy as np\n",
    "import matplotlib\n",
    "import warnings\n",
    "import string\n",
    "import numpy\n",
    "import csv\n",
    "import os"
   ]
  },
  {
   "cell_type": "markdown",
   "metadata": {
    "_uuid": "cb6fbd6b1eee108ca34577de77592af65b781cc0"
   },
   "source": [
    "<a id=\"21\"></a> <br>\n",
    "## 2-1 version"
   ]
  },
  {
   "cell_type": "code",
   "execution_count": null,
   "metadata": {
    "_kg_hide-input": true,
    "_uuid": "7d081df6329f26958f545c32b4d96172b3be96d9"
   },
   "outputs": [],
   "source": [
    "print('matplotlib: {}'.format(matplotlib.__version__))\n",
    "print('seaborn: {}'.format(sns.__version__))\n",
    "print('pandas: {}'.format(pd.__version__))\n",
    "print('numpy: {}'.format(np.__version__))\n",
    "\n",
    "#print('wordcloud: {}'.format(wordcloud.version))"
   ]
  },
  {
   "cell_type": "markdown",
   "metadata": {
    "_uuid": "4634f86ca193d38c1121af4d30f31acf25d9d334"
   },
   "source": [
    "<a id=\"22\"></a> <br>\n",
    "## 2-2 Setup\n",
    "\n",
    "A few tiny adjustments for better **code readability**"
   ]
  },
  {
   "cell_type": "code",
   "execution_count": null,
   "metadata": {
    "_kg_hide-input": true,
    "_uuid": "13ccd69be8e3a0502a3e172d1416686ce8cdba56"
   },
   "outputs": [],
   "source": [
    "sns.set(style='white', context='notebook', palette='deep')\n",
    "pylab.rcParams['figure.figsize'] = 12,8\n",
    "warnings.filterwarnings('ignore')\n",
    "mpl.style.use('ggplot')\n",
    "sns.set_style('white')\n",
    "%matplotlib inline"
   ]
  },
  {
   "cell_type": "markdown",
   "metadata": {
    "_uuid": "cedecea930b278f86292367cc28d2996a235a169"
   },
   "source": [
    "<a id=\"23\"></a> <br>\n",
    "## 2-3 Data Collection\n",
    "**Data collection** is the process of gathering and measuring data, information or any variables of interest in a standardized and established manner that enables the collector to answer or test hypothesis and evaluate outcomes of the particular collection.[techopedia]\n",
    "<img src='https://www.iaeemwc.com/assets/images/Blog/data-collection.jpg' height=300 width=300>\n",
    "\n",
    "I start Collection Data by the Users and Kernels datasets into **Pandas DataFrames**"
   ]
  },
  {
   "cell_type": "code",
   "execution_count": null,
   "metadata": {
    "_kg_hide-input": true,
    "_uuid": "9269ae851b744856bce56840637030a16a5877e1"
   },
   "outputs": [],
   "source": [
    "# import kernels and users to play with it (MJ Bahmani)\n",
    "#command--> 1\n",
    "users = pd.read_csv(\"../input/Users.csv\")\n",
    "kernels = pd.read_csv(\"../input/Kernels.csv\")\n",
    "messages = pd.read_csv(\"../input/ForumMessages.csv\")"
   ]
  },
  {
   "cell_type": "markdown",
   "metadata": {
    "_uuid": "58ed9c838069f54de5cf90b20a774c3e236149b3"
   },
   "source": [
    "\n",
    "**<< Note 1 >>**\n",
    "\n",
    "* Each row is an observation (also known as : sample, example, instance, record)\n",
    "* Each column is a feature (also known as: Predictor, attribute, Independent Variable, input, regressor, Covariate)\n",
    "###### [Go to top](#top)"
   ]
  },
  {
   "cell_type": "code",
   "execution_count": null,
   "metadata": {
    "_kg_hide-input": true,
    "_uuid": "33344731ac8933d46461ca893ea8936f6ee1c3e4"
   },
   "outputs": [],
   "source": [
    "#command--> 2\n",
    "users.sample(1) "
   ]
  },
  {
   "cell_type": "markdown",
   "metadata": {
    "_uuid": "7b5fd1034cd591ebd29fba1c77d342ec2b408d13"
   },
   "source": [
    "### Please **replace** your username and find your userid\n",
    "\n",
    "We suppose that userid==authoruserid and use userid for both kernels and users dataset"
   ]
  },
  {
   "cell_type": "code",
   "execution_count": null,
   "metadata": {
    "_kg_hide-input": true,
    "_uuid": "edd043f8feb76cfe51b79785302ca4936ceb7b51"
   },
   "outputs": [],
   "source": [
    "username=\"mjbahmani\"\n",
    "userid=int(users[users['UserName']==\"mjbahmani\"].Id)\n",
    "userid"
   ]
  },
  {
   "cell_type": "markdown",
   "metadata": {
    "_uuid": "7cc8cac399d9d348842ea0b589581f5f909c17dd"
   },
   "source": [
    "We can just use **dropna()**(be careful sometimes you should not do this!)"
   ]
  },
  {
   "cell_type": "code",
   "execution_count": null,
   "metadata": {
    "_kg_hide-input": true,
    "_uuid": "7972fa0a7d1950d8a59f9820c6cacc00eb8f1015"
   },
   "outputs": [],
   "source": [
    "# remove rows that have NA's\n",
    "print('Before Droping',messages.shape)\n",
    "#command--> 3\n",
    "messages = messages.dropna()\n",
    "print('After Droping',messages.shape)"
   ]
  },
  {
   "cell_type": "markdown",
   "metadata": {
    "_uuid": "b1a61ef77cbe97153445293fc8d01f409d87272f"
   },
   "source": [
    "<a id=\"231\"></a> <br>\n",
    "## 2-3-1 Features\n",
    "Features can be from following types:\n",
    "1. numeric\n",
    "1. categorical\n",
    "1. ordinal\n",
    "1. datetime\n",
    "1. coordinates\n",
    "\n",
    "Find the type of features in **Meta Kaggle**?!\n",
    "<br>\n",
    "For getting some information about the dataset you can use **info()** command\n",
    "###### [Go to top](#top)"
   ]
  },
  {
   "cell_type": "code",
   "execution_count": null,
   "metadata": {
    "_kg_hide-input": true,
    "_uuid": "de95bf94a02721364ad6cbd6d440d664b2961e39"
   },
   "outputs": [],
   "source": [
    "#command--> 4\n",
    "print(users.info())"
   ]
  },
  {
   "cell_type": "markdown",
   "metadata": {
    "_uuid": "e08d410c0dac5cf34eea33940ab586eb7e9ded5a"
   },
   "source": [
    "<a id=\"232\"></a> <br>\n",
    "## 2-3-2 Explorer Dataset\n",
    "1. Dimensions of the dataset.\n",
    "\n",
    "1. Peek at the data itself.\n",
    "\n",
    "1. Statistical summary of all attributes.\n",
    "\n",
    "1. Breakdown of the data by the class variable.\n",
    "\n",
    "Don’t worry, each look at the data is **one command**. These are useful commands that you can use again and again on future projects.\n",
    "###### [Go to top](#top)"
   ]
  },
  {
   "cell_type": "code",
   "execution_count": null,
   "metadata": {
    "_kg_hide-input": true,
    "_uuid": "4b45251be7be77333051fe738639104ae1005fa5"
   },
   "outputs": [],
   "source": [
    "# shape\n",
    "#command--> 5\n",
    "print(users.shape)"
   ]
  },
  {
   "cell_type": "code",
   "execution_count": null,
   "metadata": {
    "_kg_hide-input": true,
    "_uuid": "c64e9d3e0bf394fb833de94a0fc5c34f69fce24c"
   },
   "outputs": [],
   "source": [
    "#columns*rows\n",
    "#command--> 6\n",
    "users.size"
   ]
  },
  {
   "cell_type": "markdown",
   "metadata": {
    "_uuid": "277e1998627d6a3ddeff4e913a6b8c3dc81dec96"
   },
   "source": [
    "\n",
    "We can get a quick idea of how many instances (rows) and how many attributes (columns) the data contains with the shape property."
   ]
  },
  {
   "cell_type": "markdown",
   "metadata": {
    "_uuid": "3458838205be4c7fbff88e95ef69934e13e2199b"
   },
   "source": [
    "You see number of unique item for Species with command below:"
   ]
  },
  {
   "cell_type": "code",
   "execution_count": null,
   "metadata": {
    "_kg_hide-input": true,
    "_uuid": "4b90d165a007106ae99809ad28edd75bd8153dd8"
   },
   "outputs": [],
   "source": [
    "#command--> 7\n",
    "kernels['Medal'].unique()"
   ]
  },
  {
   "cell_type": "code",
   "execution_count": null,
   "metadata": {
    "_kg_hide-input": true,
    "_uuid": "8accfbddf2228274ad412c3ad3be72b4107d6f6c"
   },
   "outputs": [],
   "source": [
    "#command--> 8\n",
    "kernels[\"Medal\"].value_counts()\n"
   ]
  },
  {
   "cell_type": "markdown",
   "metadata": {
    "_uuid": "ae08b544a8d4202c7d0a47ec83d685e81c91a66d"
   },
   "source": [
    "To check the first 5 rows of the data set, we can use head(5)."
   ]
  },
  {
   "cell_type": "code",
   "execution_count": null,
   "metadata": {
    "_kg_hide-input": true,
    "_uuid": "5899889553c3416b27e93efceddb106eb71f5156"
   },
   "outputs": [],
   "source": [
    "kernels.head(5) "
   ]
  },
  {
   "cell_type": "markdown",
   "metadata": {
    "_uuid": "1150b6ac3d82562aefd5c64f9f01accee5eace4d"
   },
   "source": [
    "To check out last 5 row of the data set, we use tail() function"
   ]
  },
  {
   "cell_type": "code",
   "execution_count": null,
   "metadata": {
    "_kg_hide-input": true,
    "_uuid": "79339442ff1f53ae1054d794337b9541295d3305"
   },
   "outputs": [],
   "source": [
    "#command--> 9\n",
    "users.tail() "
   ]
  },
  {
   "cell_type": "markdown",
   "metadata": {
    "_uuid": "2c288c3dc8656a872a8529368812546e434d3a22"
   },
   "source": [
    "To pop up 5 random rows from the data set, we can use **sample(5)**  function"
   ]
  },
  {
   "cell_type": "code",
   "execution_count": null,
   "metadata": {
    "_kg_hide-input": true,
    "_uuid": "09eb18d1fcf4a2b73ba2f5ddce99dfa521681140"
   },
   "outputs": [],
   "source": [
    "kernels.sample(5) "
   ]
  },
  {
   "cell_type": "markdown",
   "metadata": {
    "_uuid": "c8a1cc36348c68fb98d6cb28aa9919fc5f2892f3"
   },
   "source": [
    "To give a statistical summary about the dataset, we can use **describe()**"
   ]
  },
  {
   "cell_type": "code",
   "execution_count": null,
   "metadata": {
    "_kg_hide-input": true,
    "_uuid": "3f7211e96627b9a81c5b620a9ba61446f7719ea3"
   },
   "outputs": [],
   "source": [
    "kernels.describe() "
   ]
  },
  {
   "cell_type": "markdown",
   "metadata": {
    "_uuid": "ff69b963b60e8ff77acae02850885c7e90358129"
   },
   "source": [
    " <a id=\"235\"></a> <br>\n",
    "## 2-3-5 Find yourself in Users datset"
   ]
  },
  {
   "cell_type": "code",
   "execution_count": null,
   "metadata": {
    "_kg_hide-input": true,
    "_uuid": "1e36488451f22350bc2c655bfdd2b50803540b87"
   },
   "outputs": [],
   "source": [
    "#command--> 12\n",
    "users[users['Id']==userid]"
   ]
  },
  {
   "cell_type": "markdown",
   "metadata": {
    "_uuid": "33fc33a18489b438a884819d99dc00a02b113be8"
   },
   "source": [
    " <a id=\"236\"></a> <br>\n",
    "## 2-3-6 Find your kernels in Kernels dataset"
   ]
  },
  {
   "cell_type": "code",
   "execution_count": null,
   "metadata": {
    "_kg_hide-input": true,
    "_uuid": "aa877c667451c76a052808964bbf8eb5991b39e0"
   },
   "outputs": [],
   "source": [
    "#command--> 13\n",
    "yourkernels=kernels[kernels['AuthorUserId']==userid]\n",
    "yourkernels.head(2)"
   ]
  },
  {
   "cell_type": "markdown",
   "metadata": {
    "_uuid": "62d171e1ffd38b2be8d90bf259dfa794cd2b1594"
   },
   "source": [
    " <a id=\"3\"></a> <br>\n",
    "## 3- Data Visualization Libraries\n",
    "Before you start learning , I am giving an overview of 10 interdisciplinary **Python data visualization libraries**, from the well-known to the obscure.\n",
    "\n",
    "* 1- matplotlib\n",
    "\n",
    "matplotlib is the O.G. of Python data visualization libraries. Despite being over a decade old, it’s still the most widely used library for plotting in the Python community. It was designed to closely resemble MATLAB, a proprietary programming language developed in the 1980s.\n",
    "\n",
    "* 2- Seaborn\n",
    "\n",
    "Seaborn harnesses the power of matplotlib to create beautiful charts in a few lines of code. The key difference is Seaborn’s default styles and color palettes, which are designed to be more aesthetically pleasing and modern. Since Seaborn is built on top of matplotlib, you’ll need to know matplotlib to tweak Seaborn’s defaults.\n",
    "\n",
    "* 3- ggplot\n",
    "\n",
    "ggplot is based on ggplot2, an R plotting system, and concepts from The Grammar of Graphics. ggplot operates differently than matplotlib: it lets you layer components to create a complete plot. For instance, you can start with axes, then add points, then a line, a trendline, etc. Although The Grammar of Graphics has been praised as an “intuitive” method for plotting, seasoned matplotlib users might need time to adjust to this new mindset.\n",
    "\n",
    "\n",
    "* 4- Bokeh\n",
    "\n",
    "Like ggplot, Bokeh is based on The Grammar of Graphics, but unlike ggplot, it’s native to Python, not ported over from R. Its strength lies in the ability to create interactive, web-ready plots, which can be easily outputted as JSON objects, HTML documents, or interactive web applications. Bokeh also supports streaming and real-time data.\n",
    "\n",
    "\n",
    "* 5- pygal\n",
    "\n",
    "Like Bokeh and Plotly, pygal offers interactive plots that can be embedded in the web browser. Its prime differentiator is the ability to output charts as SVGs. As long as you’re working with smaller datasets, SVGs will do you just fine. But if you’re making charts with hundreds of thousands of data points, they’ll have trouble rendering and become sluggish.\n",
    "\n",
    "* 6- Plotly\n",
    "\n",
    "You might know Plotly as an online platform for data visualization, but did you also know you can access its capabilities from a Python notebook? Like Bokeh, Plotly’s forte is making interactive plots, but it offers some charts you won’t find in most libraries, like contour plots, dendograms, and 3D charts.\n",
    "\n",
    "* 7- geoplotlib\n",
    "\n",
    "geoplotlib is a toolbox for creating maps and plotting geographical data. You can use it to create a variety of map-types, like choropleths, heatmaps, and dot density maps. You must have Pyglet (an object-oriented programming interface) installed to use geoplotlib. Nonetheless, since most Python data visualization libraries don’t offer maps, it’s nice to have a library dedicated solely to them.\n",
    "\n",
    "* 8- Gleam\n",
    "\n",
    "Gleam is inspired by R’s Shiny package. It allows you to turn analyses into interactive web apps using only Python scripts, so you don’t have to know any other languages like HTML, CSS, or JavaScript. Gleam works with any Python data visualization library. Once you’ve created a plot, you can build fields on top of it so users can filter and sort data.\n",
    "\n",
    "\n",
    "* 9- missingno\n",
    "\n",
    "Dealing with missing data is a pain. missingno allows you to quickly gauge the completeness of a dataset with a visual summary, instead of trudging through a table. You can filter and sort data based on completion or spot correlations with a heatmap or a dendrogram.\n",
    "\n",
    "\n",
    "* 10- Leather\n",
    "\n",
    "Leather’s creator, Christopher Groskopf, puts it best: “Leather is the Python charting library for those who need charts now and don’t care if they’re perfect.” It’s designed to work with all data types and produces charts as SVGs, so you can scale them without losing image quality. Since this library is relatively new, some of the documentation is still in progress. The charts you can make are pretty basic—but that’s the intention.\n",
    "\n",
    "At the end, nice cheatsheet on how to best visualize your data. I think I will print it out as a good reminder of \"best practices\". Check out the link for the complete cheatsheet, also as a PDF.  \n",
    "\n",
    "* 11- Chartify\n",
    "Chartify is a Python library that makes it easy for data scientists to create charts.\n",
    "\n",
    "Why use Chartify?\n",
    "1. Consistent input data format: Spend less time transforming data to get your charts to work. All plotting functions use a consistent tidy input data format.\n",
    "1. Smart default styles: Create pretty charts with very little customization required.\n",
    "1. Simple API: We've attempted to make to the API as intuitive and easy to learn as possible.\n",
    "1. Flexibility: Chartify is built on top of Bokeh, so if you do need more control you can always fall back on Bokeh's API.\n",
    "Link: https://github.com/mjbahmani/Machine-Learning-Workflow-with-Python\n",
    "![cheatsheet ][1]\n",
    "[Reference][2]\n",
    "\n",
    "\n",
    "  [1]: http://s8.picofile.com/file/8340669884/53f6a826_d7df_4b55_81e6_7c23b3fff0a3_original.png\n",
    "  [2]: https://blog.modeanalytics.com/python-data-visualization-libraries/"
   ]
  },
  {
   "cell_type": "markdown",
   "metadata": {
    "_uuid": "4f02c235284ef14f0007400125119ba36b81e325"
   },
   "source": [
    "<a id=\"4\"></a> <br>\n",
    "## 4- Matplotlib\n",
    "\n",
    "This Matplotlib tutorial takes you through the basics Python data visualization: \n",
    "1. the anatomy of a plot \n",
    "1. pyplot \n",
    "1. pylab\n",
    "1. and much more\n",
    "###### [Go to top](#top)"
   ]
  },
  {
   "cell_type": "markdown",
   "metadata": {
    "_uuid": "857d9a02e72211b4fde6f06debd3a57c8a0b1849"
   },
   "source": [
    "You can show matplotlib figures directly in the notebook by using the `%matplotlib notebook` and `%matplotlib inline` magic commands. \n",
    "\n",
    "`%matplotlib notebook` provides an interactive environment."
   ]
  },
  {
   "cell_type": "markdown",
   "metadata": {
    "_uuid": "66c8f302e0afffb4652ff2f80212610fd37ae126"
   },
   "source": [
    "We can use html cell magic to display the image."
   ]
  },
  {
   "cell_type": "code",
   "execution_count": null,
   "metadata": {
    "_kg_hide-input": true,
    "_uuid": "add973c3905be06ebae9f033070ee779f58dd785"
   },
   "outputs": [],
   "source": [
    "#import matplotlib.pyplot as plt\n",
    "plt.plot([1, 2, 3, 4], [10, 20, 25, 30], color='lightblue', linewidth=3)\n",
    "plt.scatter([0.4, 3.8, 1.2, 2.5], [15, 25, 9, 26], color='darkgreen', marker='o')\n",
    "plt.xlim(0.5, 4.5)\n",
    "plt.show()"
   ]
  },
  {
   "cell_type": "markdown",
   "metadata": {
    "_uuid": "f0f9fa93f1e5b7ec0c148c3e24f4c32c1fd57fad"
   },
   "source": [
    "Simple and powerful visualizations can be generated using the **Matplotlib Python** Library. More than a decade old, it is the most widely-used library for plotting in the Python community. A wide range of graphs from histograms to heat plots to line plots can be plotted using Matplotlib.\n",
    "\n",
    "Many other libraries are built on top of Matplotlib and are designed to work in conjunction with analysis, it being the first Python data visualization library. Libraries like pandas and matplotlib are “wrappers” over Matplotlib allowing access to a number of Matplotlib’s methods with less code.[7]"
   ]
  },
  {
   "cell_type": "markdown",
   "metadata": {
    "_uuid": "0f4decd6f93319534a203748fd8a2b9bcc154ddb"
   },
   "source": [
    "<a id=\"41\"></a> <br>\n",
    "## 4-1 Scatterplots"
   ]
  },
  {
   "cell_type": "code",
   "execution_count": null,
   "metadata": {
    "_kg_hide-input": true,
    "_uuid": "bf892e30bb09f0dc5fdf039d827ac55560b6ec06"
   },
   "outputs": [],
   "source": [
    "\n",
    "\n",
    "x = np.array([1,2,3,4,5,6,7,8])\n",
    "y = x\n",
    "\n",
    "plt.figure()\n",
    "plt.scatter(x, y) # similar to plt.plot(x, y, '.'), but the underlying child objects in the axes are not Line2D"
   ]
  },
  {
   "cell_type": "code",
   "execution_count": null,
   "metadata": {
    "_kg_hide-input": true,
    "_uuid": "9d4e979c8b366aa6e511a6d7316f63586346c649"
   },
   "outputs": [],
   "source": [
    "\n",
    "\n",
    "x = np.array([1,2,3,4,5,6,7,8])\n",
    "y = x\n",
    "\n",
    "# create a list of colors for each point to have\n",
    "# ['green', 'green', 'green', 'green', 'green', 'green', 'green', 'red']\n",
    "colors = ['green']*(len(x)-1)\n",
    "colors.append('red')\n",
    "\n",
    "plt.figure()\n",
    "\n",
    "# plot the point with size 100 and chosen colors\n",
    "plt.scatter(x, y, s=100, c=colors)"
   ]
  },
  {
   "cell_type": "code",
   "execution_count": null,
   "metadata": {
    "_kg_hide-input": true,
    "_uuid": "b9c79e1558adbb3b19de2564376a24191766ab1f"
   },
   "outputs": [],
   "source": [
    "plt.figure()\n",
    "# plot a data series 'Tall students' in red using the first two elements of x and y\n",
    "plt.scatter(x[:2], y[:2], s=100, c='red', label='Tall students')\n",
    "# plot a second data series 'Short students' in blue using the last three elements of x and y \n",
    "plt.scatter(x[2:], y[2:], s=100, c='blue', label='Short students')"
   ]
  },
  {
   "cell_type": "code",
   "execution_count": null,
   "metadata": {
    "_kg_hide-input": true,
    "_uuid": "5334176f4177a64cb1726accb26502beb9b36626"
   },
   "outputs": [],
   "source": [
    "x = np.random.randint(low=1, high=11, size=50)\n",
    "y = x + np.random.randint(1, 5, size=x.size)\n",
    "data = np.column_stack((x, y))\n",
    "\n",
    "fig, (ax1, ax2) = plt.subplots(nrows=1, ncols=2,\n",
    "                               figsize=(8, 4))\n",
    "\n",
    "ax1.scatter(x=x, y=y, marker='o', c='r', edgecolor='b')\n",
    "ax1.set_title('Scatter: $x$ versus $y$')\n",
    "ax1.set_xlabel('$x$')\n",
    "ax1.set_ylabel('$y$')\n",
    "\n",
    "ax2.hist(data, bins=np.arange(data.min(), data.max()),\n",
    "         label=('x', 'y'))\n",
    "ax2.legend(loc=(0.65, 0.8))\n",
    "ax2.set_title('Frequencies of $x$ and $y$')\n",
    "ax2.yaxis.tick_right()"
   ]
  },
  {
   "cell_type": "code",
   "execution_count": null,
   "metadata": {
    "_kg_hide-input": true,
    "_uuid": "af099546eed64ebc796403d4139cb4c977c27b03"
   },
   "outputs": [],
   "source": [
    "# Modify the graph above by assigning each species an individual color.\n",
    "#command--> 19\n",
    "x=yourkernels[\"TotalVotes\"]\n",
    "y=yourkernels[\"TotalViews\"]\n",
    "plt.scatter(x, y)\n",
    "plt.legend()\n",
    "plt.show()\n"
   ]
  },
  {
   "cell_type": "markdown",
   "metadata": {
    "_uuid": "c372afa727e992b9ec097c1f172becfd06bff4ef"
   },
   "source": [
    "<a id=\"52\"></a> <br>\n",
    "## 4-2 Line Plots"
   ]
  },
  {
   "cell_type": "code",
   "execution_count": null,
   "metadata": {
    "_kg_hide-input": true,
    "_uuid": "163942ca710e3c67e8479cd02518ca37eae8ead7"
   },
   "outputs": [],
   "source": [
    "\n",
    "\n",
    "linear_data = np.array([1,2,3,4,5,6,7,8])\n",
    "exponential_data = linear_data**2\n",
    "\n",
    "plt.figure()\n",
    "# plot the linear data and the exponential data\n",
    "plt.plot(linear_data, '-o', exponential_data, '-o')"
   ]
  },
  {
   "cell_type": "code",
   "execution_count": null,
   "metadata": {
    "_kg_hide-input": true,
    "_uuid": "7a4c6677b81fb82e1e7a1164ced70c4168080dbf"
   },
   "outputs": [],
   "source": [
    "# plot another series with a dashed red line\n",
    "plt.plot([22,44,55], '--r')"
   ]
  },
  {
   "cell_type": "markdown",
   "metadata": {
    "_uuid": "517e72eb500a3ba4db76467919f59ded9d3683cb"
   },
   "source": [
    "<a id=\"43\"></a> <br>\n",
    "## 4-3 Bar Charts"
   ]
  },
  {
   "cell_type": "code",
   "execution_count": null,
   "metadata": {
    "_kg_hide-input": true,
    "_uuid": "8a5ee722c74c9228af2bcece24831e1539fe97b2"
   },
   "outputs": [],
   "source": [
    "plt.figure()\n",
    "xvals = range(len(linear_data))\n",
    "plt.bar(xvals, linear_data, width = 0.3)"
   ]
  },
  {
   "cell_type": "code",
   "execution_count": null,
   "metadata": {
    "_kg_hide-input": true,
    "_uuid": "11a85a29ca9b1574536bfee91cc63122148d996e"
   },
   "outputs": [],
   "source": [
    "new_xvals = []\n",
    "\n",
    "# plot another set of bars, adjusting the new xvals to make up for the first set of bars plotted\n",
    "for item in xvals:\n",
    "    new_xvals.append(item+0.3)\n",
    "\n",
    "plt.bar(new_xvals, exponential_data, width = 0.3 ,color='red')"
   ]
  },
  {
   "cell_type": "code",
   "execution_count": null,
   "metadata": {
    "_kg_hide-input": true,
    "_uuid": "f6597010276961362ce22b84d49a9ef5f46521f6"
   },
   "outputs": [],
   "source": [
    "\n",
    "linear_err = [randint(0,15) for x in range(len(linear_data))] \n",
    "\n",
    "# This will plot a new set of bars with errorbars using the list of random error values\n",
    "plt.bar(xvals, linear_data, width = 0.3, yerr=linear_err)"
   ]
  },
  {
   "cell_type": "code",
   "execution_count": null,
   "metadata": {
    "_kg_hide-input": true,
    "_uuid": "8db2b0bb5d4160f7954bbcd7d9e53d29c68ef342"
   },
   "outputs": [],
   "source": [
    "# stacked bar charts are also possible\n",
    "plt.figure()\n",
    "xvals = range(len(linear_data))\n",
    "plt.bar(xvals, linear_data, width = 0.3, color='b')\n",
    "plt.bar(xvals, exponential_data, width = 0.3, bottom=linear_data, color='r')"
   ]
  },
  {
   "cell_type": "code",
   "execution_count": null,
   "metadata": {
    "_kg_hide-input": true,
    "_uuid": "ee208f2f850122b6e01ff1236b2915914fe59466"
   },
   "outputs": [],
   "source": [
    "# or use barh for horizontal bar charts\n",
    "plt.figure()\n",
    "xvals = range(len(linear_data))\n",
    "plt.barh(xvals, linear_data, height = 0.3, color='b')\n",
    "plt.barh(xvals, exponential_data, height = 0.3, left=linear_data, color='r')"
   ]
  },
  {
   "cell_type": "code",
   "execution_count": null,
   "metadata": {
    "_kg_hide-input": true,
    "_uuid": "acd3cfbdedddae19d7a2bbc9b02fefba21f595de"
   },
   "outputs": [],
   "source": [
    "# Initialize the plot\n",
    "fig = plt.figure(figsize=(20,10))\n",
    "ax1 = fig.add_subplot(121)\n",
    "ax2 = fig.add_subplot(122)\n",
    "\n",
    "# or replace the three lines of code above by the following line: \n",
    "#fig, (ax1, ax2) = plt.subplots(1,2, figsize=(20,10))\n",
    "\n",
    "# Plot the data\n",
    "ax1.bar([1,2,3],[3,4,5])\n",
    "ax2.barh([0.5,1,2.5],[0,1,2])\n",
    "\n",
    "# Show the plot\n",
    "plt.show()"
   ]
  },
  {
   "cell_type": "code",
   "execution_count": null,
   "metadata": {
    "_kg_hide-input": true,
    "_uuid": "db3db00430b8e5ddb633f3c7c82a6bf63ccb0cbc"
   },
   "outputs": [],
   "source": [
    "plt.figure()\n",
    "# subplot with 1 row, 2 columns, and current axis is 1st subplot axes\n",
    "plt.subplot(1, 2, 1)\n",
    "\n",
    "linear_data = np.array([1,2,3,4,5,6,7,8])\n",
    "\n",
    "plt.plot(linear_data, '-o')"
   ]
  },
  {
   "cell_type": "code",
   "execution_count": null,
   "metadata": {
    "_kg_hide-input": true,
    "_uuid": "ce5372a8e09fd5379b1b33c7b451ec1b983f8616"
   },
   "outputs": [],
   "source": [
    "exponential_data = linear_data**2 \n",
    "\n",
    "# subplot with 1 row, 2 columns, and current axis is 2nd subplot axes\n",
    "plt.subplot(1, 2, 2)\n",
    "plt.plot(exponential_data, '-o')"
   ]
  },
  {
   "cell_type": "code",
   "execution_count": null,
   "metadata": {
    "_kg_hide-input": true,
    "_uuid": "cc4de0125429bdcd3227e894d083c0425934b228"
   },
   "outputs": [],
   "source": [
    "# plot exponential data on 1st subplot axes\n",
    "plt.subplot(1, 2, 1)\n",
    "plt.plot(exponential_data, '-x')"
   ]
  },
  {
   "cell_type": "code",
   "execution_count": null,
   "metadata": {
    "_kg_hide-input": true,
    "_uuid": "0b565e5356d99d5875de88a853710ee2dd3c4a53"
   },
   "outputs": [],
   "source": [
    "plt.figure()\n",
    "ax1 = plt.subplot(1, 2, 1)\n",
    "plt.plot(linear_data, '-o')\n",
    "# pass sharey=ax1 to ensure the two subplots share the same y axis\n",
    "ax2 = plt.subplot(1, 2, 2, sharey=ax1)\n",
    "plt.plot(exponential_data, '-x')"
   ]
  },
  {
   "cell_type": "markdown",
   "metadata": {
    "_uuid": "487fb5e77983c55ae891c3a99537d6cef0450b74"
   },
   "source": [
    "<a id=\"44\"></a> <br>\n",
    "## 4-4 Histograms"
   ]
  },
  {
   "cell_type": "code",
   "execution_count": null,
   "metadata": {
    "_kg_hide-input": true,
    "_uuid": "42551850b478e274b9f78d4f6ef717c636242616"
   },
   "outputs": [],
   "source": [
    "# create 2x2 grid of axis subplots\n",
    "fig, ((ax1, ax2), (ax3, ax4)) = plt.subplots(2, 2, sharex=True)\n",
    "axs = [ax1,ax2,ax3,ax4]\n",
    "\n",
    "# draw n = 10, 100, 1000, and 10000 samples from the normal distribution and plot corresponding histograms\n",
    "for n in range(0,len(axs)):\n",
    "    sample_size = 10**(n+1)\n",
    "    sample = np.random.normal(loc=0.0, scale=1.0, size=sample_size)\n",
    "    axs[n].hist(sample)\n",
    "    axs[n].set_title('n={}'.format(sample_size))"
   ]
  },
  {
   "cell_type": "code",
   "execution_count": null,
   "metadata": {
    "_kg_hide-input": true,
    "_uuid": "39b84012b223069dd4cc6f1441d2ad0f585218bf"
   },
   "outputs": [],
   "source": [
    "# repeat with number of bins set to 100\n",
    "fig, ((ax1, ax2), (ax3, ax4)) = plt.subplots(2, 2, sharex=True)\n",
    "axs = [ax1,ax2,ax3,ax4]\n",
    "\n",
    "for n in range(0,len(axs)):\n",
    "    sample_size = 10**(n+1)\n",
    "    sample = np.random.normal(loc=0.0, scale=1.0, size=sample_size)\n",
    "    axs[n].hist(sample, bins=100)\n",
    "    axs[n].set_title('n={}'.format(sample_size))"
   ]
  },
  {
   "cell_type": "code",
   "execution_count": null,
   "metadata": {
    "_kg_hide-input": true,
    "_uuid": "4def4012769663b5665f7b70a077cf839b7793f1"
   },
   "outputs": [],
   "source": [
    "plt.figure()\n",
    "Y = np.random.normal(loc=0.0, scale=1.0, size=10000)\n",
    "X = np.random.random(size=10000)\n",
    "plt.scatter(X,Y)"
   ]
  },
  {
   "cell_type": "markdown",
   "metadata": {
    "_uuid": "b4e3de19781686010c6038f0e3076eb678398169"
   },
   "source": [
    "It looks like perhaps two of the input variables have a Gaussian distribution. This is useful to note as we can use algorithms that can exploit this assumption.\n",
    "\n"
   ]
  },
  {
   "cell_type": "code",
   "execution_count": null,
   "metadata": {
    "_kg_hide-input": true,
    "_uuid": "9f80a6e971cbf0af72d659b51af552ea1dddc9a8"
   },
   "outputs": [],
   "source": [
    "yourkernels[\"TotalViews\"].hist();"
   ]
  },
  {
   "cell_type": "code",
   "execution_count": null,
   "metadata": {
    "_kg_hide-input": true,
    "_uuid": "1173ef1b6ca75e28f94a891880294d1765b022ea"
   },
   "outputs": [],
   "source": [
    "yourkernels[\"TotalComments\"].hist();"
   ]
  },
  {
   "cell_type": "code",
   "execution_count": null,
   "metadata": {
    "_kg_hide-input": true,
    "_uuid": "5d8ef0781d88c46a8becf6d7f5b1f4ad2c05db7e"
   },
   "outputs": [],
   "source": [
    "sns.factorplot('TotalViews','TotalVotes',data=yourkernels)\n",
    "plt.show()"
   ]
  },
  {
   "cell_type": "markdown",
   "metadata": {
    "_uuid": "2bc0c6fc0bb19748e9e87603e3207f75ffa9b565"
   },
   "source": [
    "<a id=\"45\"></a> <br>\n",
    "## 4-5 Box and Whisker Plots\n",
    "In descriptive statistics, a **box plot** or boxplot is a method for graphically depicting groups of numerical data through their quartiles. Box plots may also have lines extending vertically from the boxes (whiskers) indicating variability outside the upper and lower quartiles, hence the terms box-and-whisker plot and box-and-whisker diagram.[wikipedia]"
   ]
  },
  {
   "cell_type": "code",
   "execution_count": null,
   "metadata": {
    "_kg_hide-input": true,
    "_uuid": "94dad21ec08e2633dacb64a89e5c807145042994"
   },
   "outputs": [],
   "source": [
    "\n",
    "normal_sample = np.random.normal(loc=0.0, scale=1.0, size=10000)\n",
    "random_sample = np.random.random(size=10000)\n",
    "gamma_sample = np.random.gamma(2, size=10000)\n",
    "\n",
    "df = pd.DataFrame({'normal': normal_sample, \n",
    "                   'random': random_sample, \n",
    "                   'gamma': gamma_sample})"
   ]
  },
  {
   "cell_type": "code",
   "execution_count": null,
   "metadata": {
    "_kg_hide-input": true,
    "_uuid": "9f4b288fe4b8ab78e6ad788e4bcfb5931920fcf2"
   },
   "outputs": [],
   "source": [
    "plt.figure()\n",
    "# create a boxplot of the normal data, assign the output to a variable to supress output\n",
    "_ = plt.boxplot(df['normal'], whis='range')"
   ]
  },
  {
   "cell_type": "code",
   "execution_count": null,
   "metadata": {
    "_kg_hide-input": true,
    "_uuid": "9dc56a6415be6584fba51630ced26b0aaa486a09"
   },
   "outputs": [],
   "source": [
    "# clear the current figure\n",
    "plt.clf()\n",
    "# plot boxplots for all three of df's columns\n",
    "_ = plt.boxplot([ df['normal'], df['random'], df['gamma'] ], whis='range')"
   ]
  },
  {
   "cell_type": "code",
   "execution_count": null,
   "metadata": {
    "_kg_hide-input": true,
    "_uuid": "0f44453d7022928d2aeed3c3e0126cbd7118cdd9"
   },
   "outputs": [],
   "source": [
    "plt.figure()\n",
    "_ = plt.hist(df['gamma'], bins=100)"
   ]
  },
  {
   "cell_type": "code",
   "execution_count": null,
   "metadata": {
    "_kg_hide-input": true,
    "_uuid": "4dba4f705171f002fc94429ec80f7b6a2fe67ff3"
   },
   "outputs": [],
   "source": [
    "plt.figure()\n",
    "plt.boxplot([ df['normal'], df['random'], df['gamma'] ], whis='range')\n",
    "# overlay axis on top of another \n",
    "ax2 = mpl_il.inset_axes(plt.gca(), width='60%', height='40%', loc=2)\n",
    "ax2.hist(df['gamma'], bins=100)\n",
    "ax2.margins(x=0.5)"
   ]
  },
  {
   "cell_type": "code",
   "execution_count": null,
   "metadata": {
    "_kg_hide-input": true,
    "_uuid": "90b1e8ffe23e39ec54414c1fd63b5d5c4e72be6f"
   },
   "outputs": [],
   "source": [
    "# switch the y axis ticks for ax2 to the right side\n",
    "ax2.yaxis.tick_right()"
   ]
  },
  {
   "cell_type": "code",
   "execution_count": null,
   "metadata": {
    "_kg_hide-input": true,
    "_uuid": "cb3652a440484d391d27122878456a642c58d804"
   },
   "outputs": [],
   "source": [
    "# if `whis` argument isn't passed, boxplot defaults to showing 1.5*interquartile (IQR) whiskers with outliers\n",
    "plt.figure()\n",
    "_ = plt.boxplot([ df['normal'], df['random'], df['gamma'] ] )"
   ]
  },
  {
   "cell_type": "code",
   "execution_count": null,
   "metadata": {
    "_kg_hide-input": true,
    "_uuid": "15e2743389cb58055ee5bb9dd9b829fb85850af2"
   },
   "outputs": [],
   "source": [
    "sns.factorplot('TotalComments','TotalVotes',data=yourkernels)\n",
    "plt.show()"
   ]
  },
  {
   "cell_type": "markdown",
   "metadata": {
    "_uuid": "fbf8bf0a67f6c49d78911c5f37be531ebbcd9edb"
   },
   "source": [
    "<a id=\"46\"></a> <br>\n",
    "## 4-6 Heatmaps"
   ]
  },
  {
   "cell_type": "code",
   "execution_count": null,
   "metadata": {
    "_kg_hide-input": true,
    "_uuid": "ebfc0dcb8e85aa540f6568fa96431a4e9707f3c1"
   },
   "outputs": [],
   "source": [
    "plt.figure()\n",
    "\n",
    "Y = np.random.normal(loc=0.0, scale=1.0, size=10000)\n",
    "X = np.random.random(size=10000)\n",
    "_ = plt.hist2d(X, Y, bins=25)"
   ]
  },
  {
   "cell_type": "code",
   "execution_count": null,
   "metadata": {
    "_kg_hide-input": true,
    "_uuid": "fdbcf35950f94a4d0f1ce10efee6a4502f6ecfc8"
   },
   "outputs": [],
   "source": [
    "plt.figure()\n",
    "_ = plt.hist2d(X, Y, bins=100)"
   ]
  },
  {
   "cell_type": "markdown",
   "metadata": {
    "_uuid": "139f44a4deb043128c8c7254eb60c33e0fc26e68"
   },
   "source": [
    "<a id=\"47\"></a> <br>\n",
    "## 4-7 Animations"
   ]
  },
  {
   "cell_type": "code",
   "execution_count": null,
   "metadata": {
    "_kg_hide-input": true,
    "_uuid": "b3676970195153dc6056600f024f55c1b6f0ba12"
   },
   "outputs": [],
   "source": [
    "\n",
    "\n",
    "n = 100\n",
    "x = np.random.randn(n)"
   ]
  },
  {
   "cell_type": "code",
   "execution_count": null,
   "metadata": {
    "_kg_hide-input": true,
    "_uuid": "ea3eb5835e4acd53d43da483e17d79c32228cad6"
   },
   "outputs": [],
   "source": [
    "# create the function that will do the plotting, where curr is the current frame\n",
    "def update(curr):\n",
    "    # check if animation is at the last frame, and if so, stop the animation a\n",
    "    if curr == n: \n",
    "        a.event_source.stop()\n",
    "    plt.cla()\n",
    "    bins = np.arange(-4, 4, 0.5)\n",
    "    plt.hist(x[:curr], bins=bins)\n",
    "    plt.axis([-4,4,0,30])\n",
    "    plt.gca().set_title('Sampling the Normal Distribution')\n",
    "    plt.gca().set_ylabel('Frequency')\n",
    "    plt.gca().set_xlabel('Value')\n",
    "    plt.annotate('n = {}'.format(curr), [3,27])"
   ]
  },
  {
   "cell_type": "code",
   "execution_count": null,
   "metadata": {
    "_kg_hide-input": true,
    "_uuid": "fb2314b3b1735c5e191c8427c5abe6429e4ff767"
   },
   "outputs": [],
   "source": [
    "fig = plt.figure()\n",
    "a = animation.FuncAnimation(fig, update, interval=100)"
   ]
  },
  {
   "cell_type": "markdown",
   "metadata": {
    "_uuid": "7e702e5e0a876f9fa0b2e4fe497a56b91e00a95d"
   },
   "source": [
    "<a id=\"48\"></a> <br>\n",
    "## 4-8 Interactivity"
   ]
  },
  {
   "cell_type": "code",
   "execution_count": null,
   "metadata": {
    "_kg_hide-input": true,
    "_uuid": "51fefb947daf8ca558cbc153e2ddbf39bcb7d4b2"
   },
   "outputs": [],
   "source": [
    "plt.figure()\n",
    "data = np.random.rand(10)\n",
    "plt.plot(data)\n",
    "\n",
    "def onclick(event):\n",
    "    plt.cla()\n",
    "    plt.plot(data)\n",
    "    plt.gca().set_title('Event at pixels {},{} \\nand data {},{}'.format(event.x, event.y, event.xdata, event.ydata))\n",
    "\n",
    "# tell mpl_connect we want to pass a 'button_press_event' into onclick when the event is detected\n",
    "plt.gcf().canvas.mpl_connect('button_press_event', onclick)"
   ]
  },
  {
   "cell_type": "code",
   "execution_count": null,
   "metadata": {
    "_kg_hide-input": true,
    "_uuid": "1d64a25dc386a30bd895ca8f58ca86d632f05d74"
   },
   "outputs": [],
   "source": [
    "from random import shuffle\n",
    "origins = ['China', 'Brazil', 'India', 'USA', 'Canada', 'UK', 'Germany', 'Iraq', 'Chile', 'Mexico']\n",
    "\n",
    "shuffle(origins)\n",
    "\n",
    "df = pd.DataFrame({'height': np.random.rand(10),\n",
    "                   'weight': np.random.rand(10),\n",
    "                   'origin': origins})\n",
    "df"
   ]
  },
  {
   "cell_type": "code",
   "execution_count": null,
   "metadata": {
    "_kg_hide-input": true,
    "_uuid": "e13dd7e002938af1a52d7520004d839a3d7d2011"
   },
   "outputs": [],
   "source": [
    "plt.figure()\n",
    "# picker=5 means the mouse doesn't have to click directly on an event, but can be up to 5 pixels away\n",
    "plt.scatter(df['height'], df['weight'], picker=5)\n",
    "plt.gca().set_ylabel('Weight')\n",
    "plt.gca().set_xlabel('Height')"
   ]
  },
  {
   "cell_type": "code",
   "execution_count": null,
   "metadata": {
    "_kg_hide-input": true,
    "_uuid": "e926ab1d2dc2098a6af48526e9f980bf594c79cd"
   },
   "outputs": [],
   "source": [
    "def onpick(event):\n",
    "    origin = df.iloc[event.ind[0]]['origin']\n",
    "    plt.gca().set_title('Selected item came from {}'.format(origin))\n",
    "\n",
    "# tell mpl_connect we want to pass a 'pick_event' into onpick when the event is detected\n",
    "plt.gcf().canvas.mpl_connect('pick_event', onpick)"
   ]
  },
  {
   "cell_type": "code",
   "execution_count": null,
   "metadata": {
    "_kg_hide-input": true,
    "_uuid": "bb968584c16b9acc6466a3897c9415c57f3a7404"
   },
   "outputs": [],
   "source": [
    "# use the 'seaborn-colorblind' style\n",
    "plt.style.use('seaborn-colorblind')"
   ]
  },
  {
   "cell_type": "markdown",
   "metadata": {
    "_uuid": "84742816a16280f7bca7c43879d6762e10e0a440"
   },
   "source": [
    "<a id=\"49\"></a> <br>\n",
    "## 4-9 DataFrame.plot"
   ]
  },
  {
   "cell_type": "code",
   "execution_count": null,
   "metadata": {
    "_kg_hide-input": true,
    "_uuid": "97a3554f9640a2b77e07c861b5a5b6c814a3b276"
   },
   "outputs": [],
   "source": [
    "np.random.seed(123)\n",
    "\n",
    "df = pd.DataFrame({'A': np.random.randn(365).cumsum(0), \n",
    "                   'B': np.random.randn(365).cumsum(0) + 20,\n",
    "                   'C': np.random.randn(365).cumsum(0) - 20}, \n",
    "                  index=pd.date_range('1/1/2017', periods=365))\n",
    "df.head()"
   ]
  },
  {
   "cell_type": "code",
   "execution_count": null,
   "metadata": {
    "_kg_hide-input": true,
    "_uuid": "4d64fa4bc8b62fe1f4d2c2de0869bb49c8f7fc3d"
   },
   "outputs": [],
   "source": [
    "df.plot('A','B', kind = 'scatter');"
   ]
  },
  {
   "cell_type": "markdown",
   "metadata": {
    "_uuid": "857cecae1e2c9eb59c1a9d136ef1c5422d86d5ba"
   },
   "source": [
    "You can also choose the plot kind by using the `DataFrame.plot.kind` methods instead of providing the `kind` keyword argument.\n",
    "\n",
    "`kind` :\n",
    "- `'line'` : line plot (default)\n",
    "- `'bar'` : vertical bar plot\n",
    "- `'barh'` : horizontal bar plot\n",
    "- `'hist'` : histogram\n",
    "- `'box'` : boxplot\n",
    "- `'kde'` : Kernel Density Estimation plot\n",
    "- `'density'` : same as 'kde'\n",
    "- `'area'` : area plot\n",
    "- `'pie'` : pie plot\n",
    "- `'scatter'` : scatter plot\n",
    "- `'hexbin'` : hexbin plot\n",
    "###### [Go to top](#top)"
   ]
  },
  {
   "cell_type": "code",
   "execution_count": null,
   "metadata": {
    "_kg_hide-input": true,
    "_uuid": "74997530957394a96f0aed15c21e65f54911159c"
   },
   "outputs": [],
   "source": [
    "# create a scatter plot of columns 'A' and 'C', with changing color (c) and size (s) based on column 'B'\n",
    "df.plot.scatter('A', 'C', c='B', s=df['B'], colormap='viridis')"
   ]
  },
  {
   "cell_type": "code",
   "execution_count": null,
   "metadata": {
    "_kg_hide-input": true,
    "_uuid": "6299f8dddb909c7850620499edc49afdfd909f75"
   },
   "outputs": [],
   "source": [
    "ax = df.plot.scatter('A', 'C', c='B', s=df['B'], colormap='viridis')\n",
    "ax.set_aspect('equal')"
   ]
  },
  {
   "cell_type": "code",
   "execution_count": null,
   "metadata": {
    "_kg_hide-input": true,
    "_uuid": "91a25480397c8759047100da9ebc6c0264d8a918"
   },
   "outputs": [],
   "source": [
    "df.plot.box();"
   ]
  },
  {
   "cell_type": "code",
   "execution_count": null,
   "metadata": {
    "_kg_hide-input": true,
    "_uuid": "b7bfa0ce17ea260d75eb97a0161af3dbd700f780"
   },
   "outputs": [],
   "source": [
    "df.plot.hist(alpha=0.7);"
   ]
  },
  {
   "cell_type": "markdown",
   "metadata": {
    "_uuid": "21a68cb3d0111753d29df2b402011daff81c5ff4"
   },
   "source": [
    "[Kernel density estimation plots](https://en.wikipedia.org/wiki/Kernel_density_estimation) are useful for deriving a smooth continuous function from a given sample."
   ]
  },
  {
   "cell_type": "code",
   "execution_count": null,
   "metadata": {
    "_kg_hide-input": true,
    "_uuid": "7b4d0f65af26e55acaf9a06da13dc71eb21a408b"
   },
   "outputs": [],
   "source": [
    "df.plot.kde();"
   ]
  },
  {
   "cell_type": "markdown",
   "metadata": {
    "_uuid": "e0f696ec021ec99c1058a62e22c8b73082fe6fa7"
   },
   "source": []
  },
  {
   "cell_type": "markdown",
   "metadata": {
    "_uuid": "6be2f6011b57248d4ec69ef562147e072d9718ae"
   },
   "source": [
    "<a id=\"5\"></a> <br>\n",
    "# 5- Seaborn\n",
    "Seaborn is an open source, BSD-licensed Python library providing high level API for visualizing the data using Python programming language.[9]\n",
    "\n",
    "\n",
    "\n",
    "[Go to top](#top)"
   ]
  },
  {
   "cell_type": "markdown",
   "metadata": {
    "_uuid": "61d945abc7817a724a8ff13b8d91601a26dd70a2"
   },
   "source": [
    "<a id=\"51\"></a> <br>\n",
    "## 5-1 Seaborn Vs Matplotlib\n",
    "\n",
    "It is summarized that if Matplotlib “tries to make easy things easy and hard things possible”, Seaborn tries to make a well defined set of hard things easy too.”\n",
    "\n",
    "Seaborn helps resolve the two major problems faced by Matplotlib; the problems are\n",
    "\n",
    "* Default Matplotlib parameters\n",
    "* Working with data frames\n",
    "\n",
    "As Seaborn compliments and extends Matplotlib, the learning curve is quite gradual. If you know Matplotlib, you are already half way through Seaborn.\n",
    "\n",
    "Important Features of Seaborn\n",
    "Seaborn is built on top of Python’s core visualization library Matplotlib. It is meant to serve as a complement, and not a replacement. However, Seaborn comes with some very important features. Let us see a few of them here. The features help in −\n",
    "\n",
    "* Built in themes for styling matplotlib graphics\n",
    "* Visualizing univariate and bivariate data\n",
    "* Fitting in and visualizing linear regression models\n",
    "* Plotting statistical time series data\n",
    "* Seaborn works well with NumPy and Pandas data structures\n",
    "* It comes with built in themes for styling Matplotlib graphics\n",
    "\n",
    "In most cases, you will still use Matplotlib for simple plotting. The knowledge of Matplotlib is recommended to tweak Seaborn’s default plots.[9]\n",
    "\n",
    "[Go to top](#top)"
   ]
  },
  {
   "cell_type": "code",
   "execution_count": null,
   "metadata": {
    "_kg_hide-input": true,
    "_uuid": "e86d3560a60a12f19847f7264a984aeb14cba2d6"
   },
   "outputs": [],
   "source": [
    "def sinplot(flip = 1):\n",
    "   x = np.linspace(0, 14, 100)\n",
    "   for i in range(1, 5): \n",
    "      plt.plot(x, np.sin(x + i * .5) * (7 - i) * flip)\n",
    "sinplot()\n",
    "plt.show()"
   ]
  },
  {
   "cell_type": "code",
   "execution_count": null,
   "metadata": {
    "_kg_hide-input": true,
    "_uuid": "0d6d5a511f6a8785731b5a1bcdb1a9281553aa28"
   },
   "outputs": [],
   "source": [
    "def sinplot(flip = 1):\n",
    "   x = np.linspace(0, 14, 100)\n",
    "   for i in range(1, 5):\n",
    "      plt.plot(x, np.sin(x + i * .5) * (7 - i) * flip)\n",
    " \n",
    "sns.set()\n",
    "sinplot()\n",
    "plt.show()"
   ]
  },
  {
   "cell_type": "code",
   "execution_count": null,
   "metadata": {
    "_kg_hide-input": true,
    "_uuid": "4f6da88a64c3790d0a7bfc995bb82aae8e1f1420"
   },
   "outputs": [],
   "source": [
    "np.random.seed(1234)\n",
    "\n",
    "v1 = pd.Series(np.random.normal(0,10,1000), name='v1')\n",
    "v2 = pd.Series(2*v1 + np.random.normal(60,15,1000), name='v2')"
   ]
  },
  {
   "cell_type": "code",
   "execution_count": null,
   "metadata": {
    "_kg_hide-input": true,
    "_uuid": "420ffb34484da7b88db34e75d883b5a060b478a3"
   },
   "outputs": [],
   "source": [
    "plt.figure()\n",
    "plt.hist(v1, alpha=0.7, bins=np.arange(-50,150,5), label='v1');\n",
    "plt.hist(v2, alpha=0.7, bins=np.arange(-50,150,5), label='v2');\n",
    "plt.legend();"
   ]
  },
  {
   "cell_type": "code",
   "execution_count": null,
   "metadata": {
    "_kg_hide-input": true,
    "_uuid": "790f27d2a5a4ef507669b4e32ba901c2b6684f87"
   },
   "outputs": [],
   "source": [
    "plt.figure()\n",
    "# we can pass keyword arguments for each individual component of the plot\n",
    "sns.distplot(v2, hist_kws={'color': 'Teal'}, kde_kws={'color': 'Navy'});"
   ]
  },
  {
   "cell_type": "code",
   "execution_count": null,
   "metadata": {
    "_kg_hide-input": true,
    "_uuid": "65db67f8736affd36f13cf608abee2c338b929c0"
   },
   "outputs": [],
   "source": [
    "sns.jointplot(v1, v2, alpha=0.4);"
   ]
  },
  {
   "cell_type": "code",
   "execution_count": null,
   "metadata": {
    "_kg_hide-input": true,
    "_uuid": "a325a54e4b7728affe318c110b2fe4d6f448efd0"
   },
   "outputs": [],
   "source": [
    "grid = sns.jointplot(v1, v2, alpha=0.4);\n",
    "grid.ax_joint.set_aspect('equal')"
   ]
  },
  {
   "cell_type": "code",
   "execution_count": null,
   "metadata": {
    "_kg_hide-input": true,
    "_uuid": "14f244f9f0332d8abb13136d14df7411a9727f04"
   },
   "outputs": [],
   "source": [
    "sns.jointplot(v1, v2, kind='hex');"
   ]
  },
  {
   "cell_type": "code",
   "execution_count": null,
   "metadata": {
    "_kg_hide-input": true,
    "_uuid": "87f176fd1a3741ab23902e3c05ebaaab3c0cf1a9"
   },
   "outputs": [],
   "source": [
    "# set the seaborn style for all the following plots\n",
    "sns.set_style('white')\n",
    "\n",
    "sns.jointplot(v1, v2, kind='kde', space=0);"
   ]
  },
  {
   "cell_type": "code",
   "execution_count": null,
   "metadata": {
    "_kg_hide-input": true,
    "_uuid": "15e2743389cb58055ee5bb9dd9b829fb85850af2"
   },
   "outputs": [],
   "source": [
    "sns.factorplot('TotalComments','TotalVotes',data=yourkernels)\n",
    "plt.show()"
   ]
  },
  {
   "cell_type": "code",
   "execution_count": null,
   "metadata": {
    "_kg_hide-input": true,
    "_uuid": "e352d2f8340609adf4bf6718b1d2ecee0fa730b5"
   },
   "outputs": [],
   "source": [
    "# violinplots on petal-length for each species\n",
    "#command--> 24\n",
    "sns.violinplot(data=yourkernels,x=\"TotalViews\", y=\"TotalVotes\")"
   ]
  },
  {
   "cell_type": "code",
   "execution_count": null,
   "metadata": {
    "_kg_hide-input": true,
    "_uuid": "82d42d69a63f9dacf41dad5bfb1b7908cefc2633"
   },
   "outputs": [],
   "source": [
    "# violinplots on petal-length for each species\n",
    "sns.violinplot(data=yourkernels,x=\"TotalComments\", y=\"TotalVotes\")"
   ]
  },
  {
   "cell_type": "code",
   "execution_count": null,
   "metadata": {
    "_kg_hide-input": true,
    "_uuid": "363b3e9509d5e3ba157c0b5f319d2585c58ee28f"
   },
   "outputs": [],
   "source": [
    "sns.violinplot(data=yourkernels,x=\"Medal\", y=\"TotalVotes\")"
   ]
  },
  {
   "cell_type": "code",
   "execution_count": null,
   "metadata": {
    "_kg_hide-input": true,
    "_uuid": "c67af4ad8d452f8e9f929e8a3284de675e3fd0d9"
   },
   "outputs": [],
   "source": [
    "sns.violinplot(data=yourkernels,x=\"Medal\", y=\"TotalComments\")"
   ]
  },
  {
   "cell_type": "markdown",
   "metadata": {
    "_uuid": "a6315bf510cecb907b2d23aad25faf6ccad32ac4"
   },
   "source": [
    "How many NA elements in every column.\n"
   ]
  },
  {
   "cell_type": "markdown",
   "metadata": {
    "_uuid": "2544d3c2dd34a360d295019d8cb597c7ef8f66bc"
   },
   "source": [
    "<a id=\"52\"></a> <br>\n",
    "##  5-2 kdeplot"
   ]
  },
  {
   "cell_type": "code",
   "execution_count": null,
   "metadata": {
    "_kg_hide-input": true,
    "_uuid": "1d07222b89303b386e9e824d52cc73c045667f25"
   },
   "outputs": [],
   "source": [
    "# seaborn's kdeplot, plots univariate or bivariate density estimates.\n",
    "#Size can be changed by tweeking the value used\n",
    "#command--> 25\n",
    "sns.FacetGrid(yourkernels, hue=\"Medal\", size=5).map(sns.kdeplot, \"TotalComments\").add_legend()\n",
    "plt.show()"
   ]
  },
  {
   "cell_type": "code",
   "execution_count": null,
   "metadata": {
    "_kg_hide-input": true,
    "_uuid": "3662003d5cb728d91c71e339cc7d6feba17b495f"
   },
   "outputs": [],
   "source": [
    "sns.FacetGrid(yourkernels, hue=\"Medal\", size=5).map(sns.kdeplot, \"TotalVotes\").add_legend()\n",
    "plt.show()"
   ]
  },
  {
   "cell_type": "code",
   "execution_count": null,
   "metadata": {
    "_kg_hide-input": true,
    "_uuid": "06e1259b209e753c2f05643706d6157145bb3b98"
   },
   "outputs": [],
   "source": [
    "f,ax=plt.subplots(1,3,figsize=(20,8))\n",
    "sns.distplot(yourkernels[yourkernels['Medal']==1].TotalVotes,ax=ax[0])\n",
    "ax[0].set_title('TotalVotes in Medal 1')\n",
    "sns.distplot(yourkernels[yourkernels['Medal']==2].TotalVotes,ax=ax[1])\n",
    "ax[1].set_title('TotalVotes in Medal 2')\n",
    "sns.distplot(yourkernels[yourkernels['Medal']==3].TotalVotes,ax=ax[2])\n",
    "ax[2].set_title('TotalVotes in Medal 3')\n",
    "plt.show()"
   ]
  },
  {
   "cell_type": "markdown",
   "metadata": {
    "_uuid": "560d8e8f17bacefaf8c3855a9648f26b82fdee9b"
   },
   "source": [
    "<a id=\"53\"></a> <br>\n",
    "## 5-3 jointplot"
   ]
  },
  {
   "cell_type": "code",
   "execution_count": null,
   "metadata": {
    "_kg_hide-input": true,
    "_uuid": "4adb4da16ea61e0f1a12bc9925dfbbaaa81e0360"
   },
   "outputs": [],
   "source": [
    "# Use seaborn's jointplot to make a hexagonal bin plot\n",
    "#Set desired size and ratio and choose a color.\n",
    "#command--> 25\n",
    "sns.jointplot(x=\"TotalVotes\", y=\"TotalViews\", data=yourkernels, size=10,ratio=10, kind='hex',color='green')\n",
    "plt.show()"
   ]
  },
  {
   "cell_type": "markdown",
   "metadata": {
    "_uuid": "3768e31e990bfe4c2ff7b45087fbba85e0560d00"
   },
   "source": [
    "<a id=\"54\"></a> <br>\n",
    "##  5-4 andrews_curves"
   ]
  },
  {
   "cell_type": "code",
   "execution_count": null,
   "metadata": {
    "_kg_hide-input": true,
    "_uuid": "263eaa9d2bfad0f8c68b6e8e874bdc11a6e802ac"
   },
   "outputs": [],
   "source": [
    "# we will use seaborn jointplot shows bivariate scatterplots and univariate histograms with Kernel density \n",
    "# estimation in the same figure\n",
    "sns.jointplot(x=\"TotalVotes\", y=\"TotalViews\", data=yourkernels, size=6, kind='kde', color='#800000', space=0)"
   ]
  },
  {
   "cell_type": "markdown",
   "metadata": {
    "_uuid": "8e73333289d17dd648b7b2112d7fe3fe7ea444d0"
   },
   "source": [
    "<a id=\"55\"></a> <br>\n",
    "## 5-5 Heatmap"
   ]
  },
  {
   "cell_type": "code",
   "execution_count": null,
   "metadata": {
    "_kg_hide-input": true,
    "_uuid": "3100955ca9dc61ac7d435e9c064d10d06f26afa7"
   },
   "outputs": [],
   "source": [
    "#command--> 26\n",
    "plt.figure(figsize=(10,7)) \n",
    "sns.heatmap(yourkernels.corr(),annot=True,cmap='cubehelix_r') #draws  heatmap with input as the correlation matrix calculted by(iris.corr())\n",
    "plt.show()"
   ]
  },
  {
   "cell_type": "code",
   "execution_count": null,
   "metadata": {
    "_kg_hide-input": true,
    "_uuid": "15e2743389cb58055ee5bb9dd9b829fb85850af2"
   },
   "outputs": [],
   "source": [
    "sns.factorplot('TotalComments','TotalVotes',data=yourkernels)\n",
    "plt.show()"
   ]
  },
  {
   "cell_type": "markdown",
   "metadata": {
    "_uuid": "6be5cceac28003946f70060cf116ac7fd52a3e02"
   },
   "source": [
    "<a id=\"56\"></a> <br>\n",
    "## 5-6 distplot"
   ]
  },
  {
   "cell_type": "code",
   "execution_count": null,
   "metadata": {
    "_uuid": "489aa9f9f032583a568be1ed30650fb684a2ed16"
   },
   "outputs": [],
   "source": [
    "sns.distplot(yourkernels['TotalVotes']);"
   ]
  },
  {
   "cell_type": "markdown",
   "metadata": {
    "_uuid": "a816cadcae66caff60006a30a7d10a67d8e0e131"
   },
   "source": [
    "<a id=\"6\"></a> <br>\n",
    "## 6- Plotly\n",
    "How to use **Plotly** offline inside IPython notebooks.\n",
    "<a id=\"61\"></a> <br>\n",
    "## 6-1 New to Plotly?\n",
    "Plotly, also known by its URL, Plot.ly, is a technical computing company headquartered in Montreal, Quebec, that develops online data analytics and visualization tools. Plotly provides online graphing, analytics, and statistics tools for individuals and collaboration, as well as scientific graphing libraries for Python, R, MATLAB, Perl, Julia, Arduino, and REST.\n",
    "\n",
    "[Go to top](#top)"
   ]
  },
  {
   "cell_type": "code",
   "execution_count": null,
   "metadata": {
    "_kg_hide-input": true,
    "_uuid": "46be2bac2295d5c7cfdb1744995ed8365e9ad296"
   },
   "outputs": [],
   "source": [
    "# example for plotly\n",
    "py.init_notebook_mode(connected=True)\n",
    "iris = datasets.load_iris()\n",
    "X = iris.data[:, :2]  # we only take the first two features.\n",
    "Y = iris.target\n",
    "x_min, x_max = X[:, 0].min() - .5, X[:, 0].max() + .5\n",
    "y_min, y_max = X[:, 1].min() - .5, X[:, 1].max() + .5\n",
    "trace = go.Scatter(x=X[:, 0],\n",
    "                   y=X[:, 1],\n",
    "                   mode='markers',\n",
    "                   marker=dict(color=np.random.randn(150),\n",
    "                               size=10,\n",
    "                               colorscale='Viridis',\n",
    "                               showscale=False))\n",
    "\n",
    "layout = go.Layout(title='Training Points',\n",
    "                   xaxis=dict(title='Sepal length',\n",
    "                            showgrid=False),\n",
    "                   yaxis=dict(title='Sepal width',\n",
    "                            showgrid=False),\n",
    "                  )\n",
    " \n",
    "fig = go.Figure(data=[trace], layout=layout)"
   ]
  },
  {
   "cell_type": "code",
   "execution_count": null,
   "metadata": {
    "_kg_hide-input": true,
    "_uuid": "23c05a67148addecc3cb78e2e6d35b1579f2db46"
   },
   "outputs": [],
   "source": [
    "py.iplot(fig)"
   ]
  },
  {
   "cell_type": "code",
   "execution_count": null,
   "metadata": {
    "_uuid": "00cc2f75918f62c124bffcbf802fecbe606b325d"
   },
   "outputs": [],
   "source": [
    "from sklearn.decomposition import PCA\n",
    "X_reduced = PCA(n_components=3).fit_transform(iris.data)"
   ]
  },
  {
   "cell_type": "code",
   "execution_count": null,
   "metadata": {
    "_uuid": "a6b7f5d9a7a81948b50ee7b6ffe985dd837d8c62"
   },
   "outputs": [],
   "source": [
    "trace = go.Scatter3d(x=X_reduced[:, 0], \n",
    "                     y=X_reduced[:, 1], \n",
    "                     z=X_reduced[:, 2],\n",
    "                     mode='markers',\n",
    "                     marker=dict(\n",
    "                         size=6,\n",
    "                         color=np.random.randn(150),\n",
    "                         colorscale='Viridis',   \n",
    "                         opacity=0.8)\n",
    "                    )\n",
    "layout=go.Layout(title='First three PCA directions',\n",
    "                 scene=dict(\n",
    "                         xaxis=dict(title='1st eigenvector'),\n",
    "                         yaxis=dict(title='2nd eigenvector'),\n",
    "                         zaxis=dict(title='3rd eigenvector'))\n",
    "                 )\n",
    "fig = go.Figure(data=[trace], layout=layout)"
   ]
  },
  {
   "cell_type": "code",
   "execution_count": null,
   "metadata": {
    "_uuid": "890a8e9d06d7ab7b2f169334f83dbb1984a6ac4c"
   },
   "outputs": [],
   "source": [
    "py.iplot(fig)\n"
   ]
  },
  {
   "cell_type": "markdown",
   "metadata": {
    "_uuid": "0ab8771687f84d08ad5e12d6844b1a73b6a8d0b7"
   },
   "source": [
    "<a id=\"62\"></a> <br>\n",
    "## 6-2 Plotly Offline from Command Line\n",
    "You can plot your graphs from a python script from command line. On executing the script, it will open a web browser with your Plotly Graph drawn.\n",
    "\n",
    "[Go to top](#top)"
   ]
  },
  {
   "cell_type": "code",
   "execution_count": null,
   "metadata": {
    "_kg_hide-input": true,
    "_uuid": "dfb6baaae600970116bbbb2ee995c2846351d543"
   },
   "outputs": [],
   "source": [
    "plot([go.Scatter(x=[1, 2, 3], y=[3, 1, 6])])"
   ]
  },
  {
   "cell_type": "code",
   "execution_count": null,
   "metadata": {
    "_kg_hide-input": true,
    "_uuid": "ed86b2b5c13a48c7196969e5e4149995f012e0c9"
   },
   "outputs": [],
   "source": [
    "np.random.seed(5)\n",
    "\n",
    "fig = tools.make_subplots(rows=2, cols=3,\n",
    "                          print_grid=False,\n",
    "                          specs=[[{'is_3d': True}, {'is_3d': True}, {'is_3d': True}],\n",
    "                                 [ {'is_3d': True, 'rowspan':1}, None, None]])\n",
    "scene = dict(\n",
    "    camera = dict(\n",
    "    up=dict(x=0, y=0, z=1),\n",
    "    center=dict(x=0, y=0, z=0),\n",
    "    eye=dict(x=2.5, y=0.1, z=0.1)\n",
    "    ),\n",
    "    xaxis=dict(\n",
    "        range=[-1, 4],\n",
    "        title='Petal width',\n",
    "        gridcolor='rgb(255, 255, 255)',\n",
    "        zerolinecolor='rgb(255, 255, 255)',\n",
    "        showbackground=True,\n",
    "        backgroundcolor='rgb(230, 230,230)',\n",
    "        showticklabels=False, ticks=''\n",
    "    ),\n",
    "    yaxis=dict(\n",
    "        range=[4, 8],\n",
    "        title='Sepal length',\n",
    "        gridcolor='rgb(255, 255, 255)',\n",
    "        zerolinecolor='rgb(255, 255, 255)',\n",
    "        showbackground=True,\n",
    "        backgroundcolor='rgb(230, 230,230)',\n",
    "        showticklabels=False, ticks=''\n",
    "    ),\n",
    "    zaxis=dict(\n",
    "        range=[1,8],\n",
    "        title='Petal length',\n",
    "        gridcolor='rgb(255, 255, 255)',\n",
    "        zerolinecolor='rgb(255, 255, 255)',\n",
    "        showbackground=True,\n",
    "        backgroundcolor='rgb(230, 230,230)',\n",
    "        showticklabels=False, ticks=''\n",
    "    )\n",
    ")\n",
    "\n",
    "centers = [[1, 1], [-1, -1], [1, -1]]\n",
    "iris = datasets.load_iris()\n",
    "X = iris.data\n",
    "y = iris.target\n",
    "\n",
    "estimators = {'k_means_iris_3': KMeans(n_clusters=3),\n",
    "              'k_means_iris_8': KMeans(n_clusters=8),\n",
    "              'k_means_iris_bad_init': KMeans(n_clusters=3, n_init=1,\n",
    "                                              init='random')}\n",
    "fignum = 1\n",
    "for name, est in estimators.items():\n",
    "    est.fit(X)\n",
    "    labels = est.labels_\n",
    "\n",
    "    trace = go.Scatter3d(x=X[:, 3], y=X[:, 0], z=X[:, 2],\n",
    "                         showlegend=False,\n",
    "                         mode='markers',\n",
    "                         marker=dict(\n",
    "                                color=labels.astype(np.float),\n",
    "                                line=dict(color='black', width=1)\n",
    "        ))\n",
    "    fig.append_trace(trace, 1, fignum)\n",
    "    \n",
    "    fignum = fignum + 1\n",
    "\n",
    "y = np.choose(y, [1, 2, 0]).astype(np.float)\n",
    "\n",
    "trace1 = go.Scatter3d(x=X[:, 3], y=X[:, 0], z=X[:, 2],\n",
    "                      showlegend=False,\n",
    "                      mode='markers',\n",
    "                      marker=dict(\n",
    "                            color=y,\n",
    "                            line=dict(color='black', width=1)))\n",
    "fig.append_trace(trace1, 2, 1)\n",
    "\n",
    "fig['layout'].update(height=900, width=900,\n",
    "                     margin=dict(l=10,r=10))\n"
   ]
  },
  {
   "cell_type": "code",
   "execution_count": null,
   "metadata": {
    "_kg_hide-input": true,
    "_uuid": "62b710eb725d7e0c7fa3bedfa9120da36a9c340c"
   },
   "outputs": [],
   "source": [
    "py.iplot(fig)"
   ]
  },
  {
   "cell_type": "markdown",
   "metadata": {
    "_uuid": "426fc75501c5a6f1f0884863c8c5fe44bf50d685"
   },
   "source": [
    " <a id=\"7\"></a> <br>\n",
    "# 7- Bokeh\n",
    "**Bokeh** is a large library that exposes many capabilities, so this section is only a quick tour of some common Bokeh use cases and workflows. For more detailed information please consult the full User Guide.[11]\n",
    "\n",
    "Let’s begin with some examples. Plotting data in basic Python lists as a line plot including zoom, pan, save, and other tools is simple and straightforward:\n",
    "\n",
    "[Go to top](#top)"
   ]
  },
  {
   "cell_type": "code",
   "execution_count": null,
   "metadata": {
    "_kg_hide-input": true,
    "_uuid": "5dcafdd9f0c16861b0e3b1f715c01b8bbcaf5bac"
   },
   "outputs": [],
   "source": [
    "output_notebook()"
   ]
  },
  {
   "cell_type": "code",
   "execution_count": null,
   "metadata": {
    "_uuid": "c7e9966064c92b14f3417fa3fe55d94e79cd4d3b"
   },
   "outputs": [],
   "source": [
    "\n",
    "x = np.linspace(0, 2*np.pi, 2000)\n",
    "y = np.sin(x)"
   ]
  },
  {
   "cell_type": "code",
   "execution_count": null,
   "metadata": {
    "_kg_hide-input": true,
    "_uuid": "b3767b15a19fe9eb728936c52486e0ff4abd7a39"
   },
   "outputs": [],
   "source": [
    "# prepare some data\n",
    "x = [1, 2, 3, 4, 5]\n",
    "y = [6, 7, 2, 4, 5]\n",
    "\n",
    "\n",
    "\n",
    "# create a new plot with a title and axis labels\n",
    "p = figure(title=\"simple line example\", x_axis_label='x', y_axis_label='y')\n",
    "\n",
    "# add a line renderer with legend and line thickness\n",
    "p.line(x, y, legend=\"Temp.\", line_width=2)\n",
    "\n",
    "# show the results\n",
    "show(p)"
   ]
  },
  {
   "cell_type": "markdown",
   "metadata": {
    "_uuid": "ca5147c5cecf4f39f7e869d2198923a72b40ecf7"
   },
   "source": [
    "When you execute this script, you will see that a new output file \"lines.html\" is created, and that a browser automatically opens a new tab to display it. (For presentation purposes we have included the plot output directly inline in this document.)\n",
    "\n",
    "The basic steps to creating plots with the bokeh.plotting interface are:\n",
    "\n",
    "Prepare some data\n",
    "In this case plain python lists, but could also be NumPy arrays or Pandas series.\n",
    "Tell Bokeh where to generate output\n",
    "In this case using output_file(), with the filename \"lines.html\". Another option is output_notebook() for use in Jupyter notebooks.\n",
    "Call figure()\n",
    "This creates a plot with typical default options and easy customization of title, tools, and axes labels.\n",
    "Add renderers\n",
    "In this case, we use line() for our data, specifying visual customizations like colors, legends and widths.\n",
    "Ask Bokeh to show() or save() the results.\n",
    "These functions save the plot to an HTML file and optionally display it in a browser.\n",
    "Steps three and four can be repeated to create more than one plot, as shown in some of the examples below.\n",
    "\n",
    "The bokeh.plotting interface is also quite handy if we need to customize the output a bit more by adding more data series, glyphs, logarithmic axis, and so on. It’s also possible to easily combine multiple glyphs together on one plot as shown below:\n",
    "\n",
    "[Go to top](#top)"
   ]
  },
  {
   "cell_type": "code",
   "execution_count": null,
   "metadata": {
    "_kg_hide-input": true,
    "_uuid": "0fff97de936bffadd7ef786b650a5bfadeeb6ae2"
   },
   "outputs": [],
   "source": [
    "from bokeh.plotting import figure, output_file, show\n",
    "\n",
    "# prepare some data\n",
    "x = [0.1, 0.5, 1.0, 1.5, 2.0, 2.5, 3.0]\n",
    "y0 = [i**2 for i in x]\n",
    "y1 = [10**i for i in x]\n",
    "y2 = [10**(i**2) for i in x]\n",
    "\n",
    "\n",
    "\n",
    "# create a new plot\n",
    "p = figure(\n",
    "   tools=\"pan,box_zoom,reset,save\",\n",
    "   y_axis_type=\"log\", y_range=[0.001, 10**11], title=\"log axis example\",\n",
    "   x_axis_label='sections', y_axis_label='particles'\n",
    ")\n",
    "\n",
    "# add some renderers\n",
    "p.line(x, x, legend=\"y=x\")\n",
    "p.circle(x, x, legend=\"y=x\", fill_color=\"white\", size=8)\n",
    "p.line(x, y0, legend=\"y=x^2\", line_width=3)\n",
    "p.line(x, y1, legend=\"y=10^x\", line_color=\"red\")\n",
    "p.circle(x, y1, legend=\"y=10^x\", fill_color=\"red\", line_color=\"red\", size=6)\n",
    "p.line(x, y2, legend=\"y=10^x^2\", line_color=\"orange\", line_dash=\"4 4\")\n",
    "\n",
    "# show the results\n",
    "show(p)"
   ]
  },
  {
   "cell_type": "code",
   "execution_count": null,
   "metadata": {
    "_kg_hide-input": true,
    "_uuid": "831b59d72227d76a3fbae76830f77698ce080c1c"
   },
   "outputs": [],
   "source": [
    "# bokeh basics\n",
    "# Create a blank figure with labels\n",
    "p = figure(plot_width = 600, plot_height = 600, \n",
    "           title = 'Example Glyphs',\n",
    "           x_axis_label = 'X', y_axis_label = 'Y')\n",
    "\n",
    "# Example data\n",
    "squares_x = [1, 3, 4, 5, 8]\n",
    "squares_y = [8, 7, 3, 1, 10]\n",
    "circles_x = [9, 12, 4, 3, 15]\n",
    "circles_y = [8, 4, 11, 6, 10]\n",
    "\n",
    "# Add squares glyph\n",
    "p.square(squares_x, squares_y, size = 12, color = 'navy', alpha = 0.6)\n",
    "# Add circle glyph\n",
    "p.circle(circles_x, circles_y, size = 12, color = 'red')\n",
    "\n",
    "# Set to output the plot in the notebook\n",
    "output_notebook()\n",
    "# Show the plot\n",
    "show(p)"
   ]
  },
  {
   "cell_type": "markdown",
   "metadata": {
    "_uuid": "294e98b19544e50ff92470e43e2e70463d706959"
   },
   "source": [
    " <a id=\"8\"></a> <br>\n",
    "# 8- NetworkX\n",
    "**NetworkX** is a Python package for the creation, manipulation, and study of the structure, dynamics, and functions of complex networks."
   ]
  },
  {
   "cell_type": "code",
   "execution_count": null,
   "metadata": {
    "_kg_hide-input": true,
    "_uuid": "d8d4470a1aacfa66e13311dfa33bceac37d1a44d"
   },
   "outputs": [],
   "source": [
    "import sys\n",
    "import matplotlib.pyplot as plt\n",
    "import networkx as nx\n",
    "G = nx.grid_2d_graph(5, 5)  # 5x5 grid\n",
    "\n",
    "# print the adjacency list\n",
    "for line in nx.generate_adjlist(G):\n",
    "    print(line)\n",
    "# write edgelist to grid.edgelist\n",
    "nx.write_edgelist(G, path=\"grid.edgelist\", delimiter=\":\")\n",
    "# read edgelist from grid.edgelist\n",
    "H = nx.read_edgelist(path=\"grid.edgelist\", delimiter=\":\")\n",
    "nx.draw(H)\n",
    "plt.show()"
   ]
  },
  {
   "cell_type": "code",
   "execution_count": null,
   "metadata": {
    "_kg_hide-input": true,
    "_uuid": "b0ea1ffe3a0eb7b04b976454c358c8e60df2ed5a"
   },
   "outputs": [],
   "source": [
    "from ipywidgets import interact\n",
    "%matplotlib inline\n",
    "import matplotlib.pyplot as plt\n",
    "import networkx as nx\n",
    "# wrap a few graph generation functions so they have the same signature\n",
    "def random_lobster(n, m, k, p):\n",
    "    return nx.random_lobster(n, p, p / m)\n",
    "\n",
    "def powerlaw_cluster(n, m, k, p):\n",
    "    return nx.powerlaw_cluster_graph(n, m, p)\n",
    "\n",
    "def erdos_renyi(n, m, k, p):\n",
    "    return nx.erdos_renyi_graph(n, p)\n",
    "\n",
    "def newman_watts_strogatz(n, m, k, p):\n",
    "    return nx.newman_watts_strogatz_graph(n, k, p)\n",
    "\n",
    "def plot_random_graph(n, m, k, p, generator):\n",
    "    g = generator(n, m, k, p)\n",
    "    nx.draw(g)\n",
    "    plt.show()\n",
    "    \n",
    "interact(plot_random_graph, n=(2,30), m=(1,10), k=(1,10), p=(0.0, 1.0, 0.001),\n",
    "         generator={\n",
    "             'lobster': random_lobster,\n",
    "             'power law': powerlaw_cluster,\n",
    "             'Newman-Watts-Strogatz': newman_watts_strogatz,\n",
    "             u'Erdős-Rényi': erdos_renyi,\n",
    "         });"
   ]
  },
  {
   "cell_type": "markdown",
   "metadata": {
    "_uuid": "fe929625d7390ee89cc2636bf9c89f6e1eecaa70"
   },
   "source": [
    "<a id=\"9\"></a> <br>\n",
    " # 9- Read more\n",
    " \n",
    " you can start to learn and review your knowledge about ML with a perfect dataset and try to learn and memorize the workflow for your journey in Data science world with read more sources, here I want to give some courses, e-books and cheatsheet:\n",
    " <a id=\"91\"></a> <br>\n",
    " ## 9-1 Courses\n",
    " \n",
    "There are a lot of online courses that can help you develop your knowledge, here I have just  listed some of them:\n",
    "\n",
    "1. [Machine Learning Certification by Stanford University (Coursera)](https://www.coursera.org/learn/machine-learning/)\n",
    "\n",
    "2. [Machine Learning A-Z™: Hands-On Python & R In Data Science (Udemy)](https://www.udemy.com/machinelearning/)\n",
    "\n",
    "3. [Deep Learning Certification by Andrew Ng from deeplearning.ai (Coursera)](https://www.coursera.org/specializations/deep-learning)\n",
    "\n",
    "4. [Python for Data Science and Machine Learning Bootcamp (Udemy)](Python for Data Science and Machine Learning Bootcamp (Udemy))\n",
    "\n",
    "5. [Mathematics for Machine Learning by Imperial College London](https://www.coursera.org/specializations/mathematics-machine-learning)\n",
    "\n",
    "6. [Deep Learning A-Z™: Hands-On Artificial Neural Networks](https://www.udemy.com/deeplearning/)\n",
    "\n",
    "7. [Complete Guide to TensorFlow for Deep Learning Tutorial with Python](https://www.udemy.com/complete-guide-to-tensorflow-for-deep-learning-with-python/)\n",
    "\n",
    "8. [Data Science and Machine Learning Tutorial with Python – Hands On](https://www.udemy.com/data-science-and-machine-learning-with-python-hands-on/)\n",
    "\n",
    "9. [Machine Learning Certification by University of Washington](https://www.coursera.org/specializations/machine-learning)\n",
    "\n",
    "10. [Data Science and Machine Learning Bootcamp with R](https://www.udemy.com/data-science-and-machine-learning-bootcamp-with-r/)\n",
    "11. [Creative Applications of Deep Learning with TensorFlow](https://www.class-central.com/course/kadenze-creative-applications-of-deep-learning-with-tensorflow-6679)\n",
    "12. [Neural Networks for Machine Learning](https://www.class-central.com/mooc/398/coursera-neural-networks-for-machine-learning)\n",
    "13. [Practical Deep Learning For Coders, Part 1](https://www.class-central.com/mooc/7887/practical-deep-learning-for-coders-part-1)\n",
    "14. [Machine Learning](https://www.cs.ox.ac.uk/teaching/courses/2014-2015/ml/index.html)\n",
    "<a id=\"92\"></a> <br>\n",
    "## 9-2 Ebooks\n",
    "\n",
    "So you love reading , here is **10 free machine learning books**\n",
    "1. [Probability and Statistics for Programmers](http://www.greenteapress.com/thinkstats/)\n",
    "2. [Bayesian Reasoning and Machine Learning](http://web4.cs.ucl.ac.uk/staff/D.Barber/textbook/091117.pdf)\n",
    "2. [An Introduction to Statistical Learning](http://www-bcf.usc.edu/~gareth/ISL/)\n",
    "2. [Understanding Machine Learning](http://www.cs.huji.ac.il/~shais/UnderstandingMachineLearning/index.html)\n",
    "2. [A Programmer’s Guide to Data Mining](http://guidetodatamining.com/)\n",
    "2. [Mining of Massive Datasets](http://infolab.stanford.edu/~ullman/mmds/book.pdf)\n",
    "2. [A Brief Introduction to Neural Networks](http://www.dkriesel.com/_media/science/neuronalenetze-en-zeta2-2col-dkrieselcom.pdf)\n",
    "2. [Deep Learning](http://www.deeplearningbook.org/)\n",
    "2. [Natural Language Processing with Python](https://www.researchgate.net/publication/220691633_Natural_Language_Processing_with_Python)\n",
    "2. [Machine Learning Yearning](http://www.mlyearning.org/)\n",
    "\n",
    "\n",
    "[Go to top](#top)"
   ]
  },
  {
   "cell_type": "markdown",
   "metadata": {
    "_uuid": "6caa0f9d20a055caebf9a2269c2081b052858806"
   },
   "source": [
    "<a id=\"10\"></a> <br>\n",
    "# 10- conclusion\n",
    "Some of the other popular data visualisation libraries in Python are\n",
    "1. Bokeh\n",
    "1. Geoplotlib\n",
    "1. Gleam\n",
    "1. Missingno\n",
    "1. Dash\n",
    "1. Leather\n",
    "Python gives a lot of options to visualise data, it is important to identify the method best suited to your needs, from basic plotting to sophisticated and complicated statistical charts, and others. It many also depend on functionalities such as generating vector and interactive files to flexibility offered by these tools.\n",
    "\n",
    "This kernel it is not completed yet! Following up!\n",
    "\n",
    "[Go to top](#top)"
   ]
  },
  {
   "cell_type": "markdown",
   "metadata": {
    "_uuid": "cf3679a51c72dbe2d2549b5fe97e4ac5f1fa0fa0"
   },
   "source": [
    "You can follow me on:\n",
    "\n",
    "> ###### [ GitHub](https://github.com/mjbahmani/10-steps-to-become-a-data-scientist)\n",
    "\n",
    "--------------------------------------\n",
    "\n",
    " **I hope you find this kernel helpful and some <font color=\"red\"><b>UPVOTES</b></font> would be very much appreciated** "
   ]
  },
  {
   "cell_type": "markdown",
   "metadata": {
    "_uuid": "5590d9817e38722f88c9924517a591d43dfaf4ba"
   },
   "source": [
    "<a id=\"11\"></a> <br>\n",
    "# 11- References\n",
    "1. [Coursera](https://www.coursera.org/specializations/data-science-python)\n",
    "1. [GitHub](https://github.com/mjbahmani)\n",
    "1. [analyticsindiamag](https://www.analyticsindiamag.com/top-5-best-data-visualisation-libraries-in-python/)\n",
    "1. [primeoncology](https://www.primeoncology.org/primetimes/3-benefits-data-visualization-medical-education/)\n",
    "1. [10 Useful Python Data Visualization Libraries for Any Discipline](https://mode.com/blog/python-data-visualization-libraries)\n",
    "1. [PythonDataScienceHandbook](https://jakevdp.github.io/PythonDataScienceHandbook/04.00-introduction-to-matplotlib.html)\n",
    "1. [Python Data Science Handbook by Jake VanderPlas](https://www.oreilly.com/library/view/python-data-science/9781491912126/ch04.html)\n",
    "1. [datacamp](https://www.datacamp.com/community/tutorials/seaborn-python-tutorial)\n",
    "1. [tutorialspoint](https://www.tutorialspoint.com/seaborn/index.htm)\n",
    "1. [towardsdatascience](https://towardsdatascience.com/a-short-python-tutorial-using-the-open-source-plotly-dash-library-part-i-e59fb1f1a457)\n",
    "1. [pydata](https://bokeh.pydata.org/en/latest/docs/user_guide/quickstart.html)\n",
    "1. [plot.ly](https://plot.ly/scikit-learn/plot-iris-dataset/)\n",
    "[Go to top](#top)"
   ]
  },
  {
   "cell_type": "markdown",
   "metadata": {
    "_uuid": "72e1e18935b372b6aac2fae910e5bd12de1d420f"
   },
   "source": [
    "Go to first step: [**Course Home Page**](https://www.kaggle.com/mjbahmani/10-steps-to-become-a-data-scientist)\n",
    "\n",
    "Go to next step : [**Titanic**](https://www.kaggle.com/mjbahmani/a-comprehensive-ml-workflow-with-python)"
   ]
  }
 ],
 "metadata": {
  "kernelspec": {
   "display_name": "Python 3",
   "language": "python",
   "name": "python3"
  },
  "language_info": {
   "codemirror_mode": {
    "name": "ipython",
    "version": 3
   },
   "file_extension": ".py",
   "mimetype": "text/x-python",
   "name": "python",
   "nbconvert_exporter": "python",
   "pygments_lexer": "ipython3",
   "version": "3.7.5"
  }
 },
 "nbformat": 4,
 "nbformat_minor": 1
}
